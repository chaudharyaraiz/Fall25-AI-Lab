{
 "cells": [
  {
   "cell_type": "code",
   "execution_count": null,
   "id": "5c9fa5ba",
   "metadata": {},
   "outputs": [
    {
     "name": "stdout",
     "output_type": "stream",
     "text": [
      "\n",
      "The average budget is: $190,500,000\n",
      "\n",
      "Movies with higher than average budget:\n",
      "- Pirates of the Caribbean: On Stranger Tides: $379,000,000 (which is $188,500,000 above average)\n",
      "- Avengers: Age of Ultron: $365,000,000 (which is $174,500,000 above average)\n",
      "- Avengers: Endgame: $356,000,000 (which is $165,500,000 above average)\n",
      "- Incredibles 2: $200,000,000 (which is $9,500,000 above average)\n",
      "- Pirates of the Caribbean: On Stranger Tides: $379,000,000 (which is $188,500,000 above average)\n",
      "- Avengers: Age of Ultron: $365,000,000 (which is $174,500,000 above average)\n",
      "- Avengers: Endgame: $356,000,000 (which is $165,500,000 above average)\n",
      "- Incredibles 2: $200,000,000 (which is $9,500,000 above average)\n",
      "\n",
      "Number of movies above average budget: 8\n"
     ]
    }
   ],
   "source": [
    "movies = [\n",
    "    (\"Eternal Sunshine of the Spotless Mind\", 20000000),\n",
    "    (\"Memento\", 9000000),\n",
    "    (\"Requiem for a Dream\", 4500000),\n",
    "    (\"Pirates of the Caribbean: On Stranger Tides\", 379000000),\n",
    "    (\"Avengers: Age of Ultron\", 365000000),\n",
    "    (\"Avengers: Endgame\", 356000000),\n",
    "    (\"Incredibles 2\", 200000000)\n",
    "]\n",
    "\n",
    "add_count = int(input(\" 7 \"))\n",
    "\n",
    "for i in range(add_count):\n",
    "    title = input(\"Movie title: \")\n",
    "    budget = int(input(\"Movie budget: \"))\n",
    "    movies.append((title, budget))\n",
    "\n",
    "total_budget = 0\n",
    "for movie in movies:\n",
    "    total_budget += movie[1]\n",
    "\n",
    "average_budget = total_budget / len(movies)\n",
    "print(f\"\\nThe average budget is: ${average_budget:,.0f}\")\n",
    "\n",
    "print(\"\\nMovies with higher than average budget:\")\n",
    "above_average_count = 0\n",
    "\n",
    "for movie in movies:\n",
    "    name, budget = movie\n",
    "    if budget > average_budget:\n",
    "        difference = budget - average_budget\n",
    "        print(f\"- {name}: ${budget:,.0f} (which is ${difference:,.0f} above average)\")\n",
    "        above_average_count += 1\n",
    "\n",
    "print(f\"\\nNumber of movies above average budget: {above_average_count}\")\n"
   ]
  },
  {
   "cell_type": "code",
   "execution_count": 3,
   "id": "a055b7ff",
   "metadata": {},
   "outputs": [
    {
     "name": "stdout",
     "output_type": "stream",
     "text": [
      "FizzBuzz\n",
      "['1', 'Fizz', 'Buzz', '4', 'Fizz', '6', '7', 'FizzBuzz', '9', '10', 'Fizz', '12', 'Buzz', 'Fizz', '15', '16', 'Fizz', 'Buzz']\n"
     ]
    }
   ],
   "source": [
    "def game_fizzbuzz_table(n=18):\n",
    "    print(\"FizzBuzz\")\n",
    "    previous = 0\n",
    "    results = []  \n",
    "    for number in range(1, n+1):\n",
    "        actual = previous + number\n",
    "        if actual % 3 == 0 and actual % 5 == 0:\n",
    "            results.append(\"FizzBuzz\")\n",
    "        elif actual % 3 == 0:\n",
    "            results.append(\"Fizz\")\n",
    "        elif actual % 5 == 0:\n",
    "            results.append(\"Buzz\")\n",
    "        else:\n",
    "            results.append(str(number))\n",
    "        previous = number\n",
    "\n",
    "    for i in range(0, len(results), 20):\n",
    "        print((results[i:i+20]))\n",
    "\n",
    "\n",
    "game_fizzbuzz_table(18)"
   ]
  },
  {
   "cell_type": "code",
   "execution_count": null,
   "id": "2e724ae7",
   "metadata": {},
   "outputs": [],
   "source": []
  }
 ],
 "metadata": {
  "kernelspec": {
   "display_name": "Python 3",
   "language": "python",
   "name": "python3"
  },
  "language_info": {
   "codemirror_mode": {
    "name": "ipython",
    "version": 3
   },
   "file_extension": ".py",
   "mimetype": "text/x-python",
   "name": "python",
   "nbconvert_exporter": "python",
   "pygments_lexer": "ipython3",
   "version": "3.10.11"
  }
 },
 "nbformat": 4,
 "nbformat_minor": 5
}
