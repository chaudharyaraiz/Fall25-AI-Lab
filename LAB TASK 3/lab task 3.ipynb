{
 "cells": [
  {
   "cell_type": "code",
   "execution_count": null,
   "id": "6cafc11f",
   "metadata": {},
   "outputs": [
    {
     "name": "stdout",
     "output_type": "stream",
     "text": [
      "Temp: 18°C --> Turning heater ON\n",
      "Temp: 20°C --> Keep heater ON\n",
      "Temp: 22°C --> Temperature is fine, keep Heater_On\n",
      "Temp: 23°C --> Temperature is fine, keep Heater_On\n",
      "Temp: 24°C --> Turning heater Off\n",
      "Temp: 22°C --> Temperature is fine, keep Heater_Off\n",
      "Temp: 21°C --> Temperature is fine, keep Heater_Off\n"
     ]
    }
   ],
   "source": [
    "class TemperatureAgent:\n",
    "    def __init__(self, desired_temp):\n",
    "        self.desired_temp = desired_temp    \n",
    "        self.last_action = None             \n",
    "\n",
    "    def take_action(self, current_temp):\n",
    "        if current_temp < self.desired_temp - 1:\n",
    "            if self.last_action != \"Heater_On\":\n",
    "                self.last_action = \"Heater_On\"\n",
    "                return \"Turning heater ON\"\n",
    "            else:\n",
    "                return \"Keep heater ON\"\n",
    "\n",
    "        elif current_temp > self.desired_temp + 1:\n",
    "            if self.last_action != \"Heater_Off\":\n",
    "                self.last_action = \"Heater_Off\"\n",
    "                return \"Turning heater Off\"\n",
    "            else:\n",
    "                return \"Keep heater Off\"\n",
    "\n",
    "        else:\n",
    "            return f\"Temperature is fine, keep {self.last_action}\"\n",
    "\n",
    "agent = TemperatureAgent(desired_temp=22)\n",
    "temps = [18, 20, 22, 23, 24, 22, 21]  \n",
    "\n",
    "for t in temps:\n",
    "    action = agent.take_action(t)\n",
    "    print(f\"Temp: {t}C --> {action}\")\n"
   ]
  },
  {
   "cell_type": "code",
   "execution_count": 1,
   "id": "abef5e77",
   "metadata": {},
   "outputs": [
    {
     "ename": "TypeError",
     "evalue": "model_based_agent() takes no arguments",
     "output_type": "error",
     "traceback": [
      "\u001b[1;31m---------------------------------------------------------------------------\u001b[0m",
      "\u001b[1;31mTypeError\u001b[0m                                 Traceback (most recent call last)",
      "Cell \u001b[1;32mIn[1], line 40\u001b[0m\n\u001b[0;32m     35\u001b[0m         \u001b[38;5;28;01mfor\u001b[39;00m temp, action \u001b[38;5;129;01min\u001b[39;00m \u001b[38;5;28mself\u001b[39m\u001b[38;5;241m.\u001b[39mhistory:\n\u001b[0;32m     36\u001b[0m             \u001b[38;5;28mprint\u001b[39m(\u001b[38;5;124mf\u001b[39m\u001b[38;5;124m\"\u001b[39m\u001b[38;5;124mTemp \u001b[39m\u001b[38;5;132;01m{\u001b[39;00mtemp\u001b[38;5;132;01m}\u001b[39;00m\u001b[38;5;124m°C -> \u001b[39m\u001b[38;5;132;01m{\u001b[39;00maction\u001b[38;5;132;01m}\u001b[39;00m\u001b[38;5;124m\"\u001b[39m)\n\u001b[1;32m---> 40\u001b[0m agent \u001b[38;5;241m=\u001b[39m model_based_agent(on_temp\u001b[38;5;241m=\u001b[39m\u001b[38;5;241m20\u001b[39m, off_temp\u001b[38;5;241m=\u001b[39m\u001b[38;5;241m32\u001b[39m)\n\u001b[0;32m     41\u001b[0m temperature \u001b[38;5;241m=\u001b[39m [\u001b[38;5;241m18\u001b[39m, \u001b[38;5;241m21\u001b[39m, \u001b[38;5;241m25\u001b[39m, \u001b[38;5;241m32\u001b[39m, \u001b[38;5;241m28\u001b[39m, \u001b[38;5;241m20\u001b[39m, \u001b[38;5;241m19\u001b[39m, \u001b[38;5;241m33\u001b[39m, \u001b[38;5;241m22\u001b[39m, \u001b[38;5;241m20\u001b[39m]\n\u001b[0;32m     43\u001b[0m \u001b[38;5;28mprint\u001b[39m(\u001b[38;5;124m\"\u001b[39m\u001b[38;5;124mAdvanced Model-Based Reflex Agent\u001b[39m\u001b[38;5;130;01m\\n\u001b[39;00m\u001b[38;5;124m\"\u001b[39m)\n",
      "\u001b[1;31mTypeError\u001b[0m: model_based_agent() takes no arguments"
     ]
    }
   ],
   "source": [
    "class model_based_agent():\n",
    "    def _init_(self, on_temp=20, off_temp=32):\n",
    "        self.on_temp = on_temp\n",
    "        self.off_temp = off_temp\n",
    "        self.heater_status = \"off\"\n",
    "        self.Ac_status = \"off\"\n",
    "        self.history = []\n",
    "\n",
    "    def act(self, current_temp):\n",
    "        action = \"\"\n",
    "\n",
    "        \n",
    "        if current_temp <= self.on_temp and self.heater_status == \"off\":\n",
    "            self.heater_status = \"on\"\n",
    "            action = \"Heater turned ON\"\n",
    "        elif current_temp >= self.off_temp and self.heater_status == \"on\":\n",
    "            self.heater_status = \"off\"\n",
    "            action = \"Heater turned OFF\"\n",
    "        else:\n",
    "            action = f\"No change, Heater is {self.heater_status}\"\n",
    "\n",
    "        \n",
    "        if current_temp > 30:\n",
    "            self.Ac_status = \"on\"\n",
    "            action += \" + AC ON\"\n",
    "        else:\n",
    "            self.Ac_status = \"off\"\n",
    "\n",
    "        \n",
    "        self.history.append((current_temp, action))\n",
    "        return action\n",
    "\n",
    "    def show_history(self):\n",
    "        print(\"\\nAction history:\")\n",
    "        for temp, action in self.history:\n",
    "            print(f\"Temp {temp}°C -> {action}\")\n",
    "\n",
    "\n",
    "\n",
    "agent = model_based_agent(on_temp=20, off_temp=32)\n",
    "temperature = [18, 21, 25, 32, 28, 20, 19, 33, 22, 20]\n",
    "\n",
    "print(\"Advanced Model-Based Reflex Agent\\n\")\n",
    "for temp in temperature:\n",
    "    print(f\"Current Temp: {temp}°C -> {agent.act(temp)}\")\n",
    "\n",
    "agent.show_history()"
   ]
  }
 ],
 "metadata": {
  "kernelspec": {
   "display_name": "base",
   "language": "python",
   "name": "python3"
  },
  "language_info": {
   "codemirror_mode": {
    "name": "ipython",
    "version": 3
   },
   "file_extension": ".py",
   "mimetype": "text/x-python",
   "name": "python",
   "nbconvert_exporter": "python",
   "pygments_lexer": "ipython3",
   "version": "3.12.7"
  }
 },
 "nbformat": 4,
 "nbformat_minor": 5
}
