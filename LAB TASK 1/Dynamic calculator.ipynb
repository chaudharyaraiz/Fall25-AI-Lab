{
 "cells": [
  {
   "cell_type": "code",
   "execution_count": null,
   "id": "db6c2193",
   "metadata": {},
   "outputs": [
    {
     "name": "stdout",
     "output_type": "stream",
     "text": [
      "Modified Expression: 5*5+10-5\n",
      "Result: 30\n"
     ]
    }
   ],
   "source": [
    "import re\n",
    "\n",
    "def precedence(op):\n",
    "    if op in ('+', '-'):\n",
    "        return 1\n",
    "    if op in ('*', '/', '×', '÷'):\n",
    "        return 2\n",
    "    return 0\n",
    "\n",
    "def apply_op(a, b, op):\n",
    "    if op == '+': return a + b\n",
    "    if op == '-': return a - b\n",
    "    if op in ('*', '×'): return a * b\n",
    "    if op in ('/', '÷'): return a / b\n",
    "\n",
    "def evaluate(expression):\n",
    "    nums = []  \n",
    "    ops = []   \n",
    "    i = 0\n",
    "    while i < len(expression):\n",
    "        if expression[i] == ' ':\n",
    "            i += 1\n",
    "            continue\n",
    "        if expression[i] == '(':\n",
    "            ops.append(expression[i])\n",
    "        elif expression[i].isdigit():\n",
    "            val = 0\n",
    "            while i < len(expression) and (expression[i].isdigit() or expression[i] == '.'):\n",
    "                if expression[i] == '.':\n",
    "                    j = i + 1\n",
    "                    decimal_place = 0.1\n",
    "                    while j < len(expression) and expression[j].isdigit():\n",
    "                        val += int(expression[j]) * decimal_place\n",
    "                        decimal_place /= 10\n",
    "                        j += 1\n",
    "                    i = j - 1\n",
    "                else:\n",
    "                    val = (val * 10) + int(expression[i])\n",
    "                i += 1\n",
    "            nums.append(val)\n",
    "            i -= 1\n",
    "        elif expression[i] == ')':\n",
    "            while ops and ops[-1] != '(':\n",
    "                val2 = nums.pop()\n",
    "                val1 = nums.pop()\n",
    "                op = ops.pop()\n",
    "                nums.append(apply_op(val1, val2, op))\n",
    "            ops.pop()\n",
    "        else:\n",
    "            while ops and precedence(ops[-1]) >= precedence(expression[i]):\n",
    "                val2 = nums.pop()\n",
    "                val1 = nums.pop()\n",
    "                op = ops.pop()\n",
    "                nums.append(apply_op(val1, val2, op))\n",
    "            ops.append(expression[i])\n",
    "        i += 1\n",
    "\n",
    "    while ops:\n",
    "        val2 = nums.pop()\n",
    "        val1 = nums.pop()\n",
    "        op = ops.pop()\n",
    "        nums.append(apply_op(val1, val2, op))\n",
    "\n",
    "    return nums[-1]\n",
    "\n",
    "\n",
    "\n",
    "exp = input(\"Enter expression (use +, -, ×, ÷, (), numbers): \")\n",
    "\n",
    "\n",
    "exp = re.sub(r'(\\d)\\(', r'\\1*(', exp)\n",
    "\n",
    "\n",
    "exp = exp.replace(\"×\", \"*\").replace(\"÷\", \"/\")\n",
    "\n",
    "print(\"Modified Expression:\", exp)\n",
    "print(\"Result:\", evaluate(exp))\n"
   ]
  },
  {
   "cell_type": "code",
   "execution_count": null,
   "id": "5ac76124",
   "metadata": {},
   "outputs": [],
   "source": []
  }
 ],
 "metadata": {
  "kernelspec": {
   "display_name": "base",
   "language": "python",
   "name": "python3"
  },
  "language_info": {
   "codemirror_mode": {
    "name": "ipython",
    "version": 3
   },
   "file_extension": ".py",
   "mimetype": "text/x-python",
   "name": "python",
   "nbconvert_exporter": "python",
   "pygments_lexer": "ipython3",
   "version": "3.12.7"
  }
 },
 "nbformat": 4,
 "nbformat_minor": 5
}
