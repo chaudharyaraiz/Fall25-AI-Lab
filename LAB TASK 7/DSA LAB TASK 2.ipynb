{
 "cells": [
  {
   "cell_type": "code",
   "execution_count": 1,
   "id": "d7d40f42",
   "metadata": {},
   "outputs": [
    {
     "name": "stdout",
     "output_type": "stream",
     "text": [
      "Original Array: ['apple', 'zebra', 'banana', 'mango']\n",
      "Sorted Array (Descending): ['zebra', 'mango', 'banana', 'apple']\n"
     ]
    }
   ],
   "source": [
    "def bubble_sort_desc(arr):\n",
    "    n = len(arr)\n",
    "    for i in range(n):\n",
    "        for j in range(0, n - i - 1):\n",
    "           \n",
    "            if arr[j] < arr[j + 1]:\n",
    "                arr[j], arr[j + 1] = arr[j + 1], arr[j]\n",
    "    return arr\n",
    "\n",
    "\n",
    "arr = [\"apple\", \"zebra\", \"banana\", \"mango\"]\n",
    "print(\"Original Array:\", arr)\n",
    "sorted_arr = bubble_sort_desc(arr.copy())\n",
    "print(\"Sorted Array (Descending):\", sorted_arr)\n"
   ]
  },
  {
   "cell_type": "code",
   "execution_count": 2,
   "id": "472926b5",
   "metadata": {},
   "outputs": [
    {
     "name": "stdout",
     "output_type": "stream",
     "text": [
      "Initial Array: ['apple', 'zebra', 'banana', 'mango']\n",
      "Pass 1: ['zebra', 'banana', 'mango', 'apple']\n",
      "Pass 2: ['zebra', 'mango', 'banana', 'apple']\n",
      "Pass 3: ['zebra', 'mango', 'banana', 'apple']\n",
      "Pass 4: ['zebra', 'mango', 'banana', 'apple']\n"
     ]
    },
    {
     "data": {
      "text/plain": [
       "['zebra', 'mango', 'banana', 'apple']"
      ]
     },
     "execution_count": 2,
     "metadata": {},
     "output_type": "execute_result"
    }
   ],
   "source": [
    "def bubble_sort_show_pass(arr):\n",
    "    n = len(arr)\n",
    "    for i in range(n):\n",
    "        for j in range(0, n - i - 1):\n",
    "            if arr[j] < arr[j + 1]:  \n",
    "                arr[j], arr[j + 1] = arr[j + 1], arr[j]\n",
    "\n",
    "        print(f\"Pass {i + 1}: {arr}\")\n",
    "    return arr\n",
    "\n",
    "arr = [\"apple\", \"zebra\", \"banana\", \"mango\"]\n",
    "print(\"Initial Array:\", arr)\n",
    "bubble_sort_show_pass(arr.copy())\n"
   ]
  },
  {
   "cell_type": "code",
   "execution_count": 3,
   "id": "a5e3dad9",
   "metadata": {},
   "outputs": [
    {
     "name": "stdout",
     "output_type": "stream",
     "text": [
      "Pass 1: ['zebra', 'banana', 'mango', 'apple']\n",
      "Pass 2: ['zebra', 'mango', 'banana', 'apple']\n",
      "Pass 3: ['zebra', 'mango', 'banana', 'apple']\n",
      "Pass 4: ['zebra', 'mango', 'banana', 'apple']\n",
      "\n",
      "Total Comparisons: 6\n",
      "Total Swaps: 4\n"
     ]
    },
    {
     "data": {
      "text/plain": [
       "['zebra', 'mango', 'banana', 'apple']"
      ]
     },
     "execution_count": 3,
     "metadata": {},
     "output_type": "execute_result"
    }
   ],
   "source": [
    "def bubble_sort_count(arr):\n",
    "    n = len(arr)\n",
    "    comparisons = 0\n",
    "    swaps = 0\n",
    "\n",
    "    for i in range(n):\n",
    "        for j in range(0, n - i - 1):\n",
    "            comparisons += 1\n",
    "            if arr[j] < arr[j + 1]:\n",
    "                arr[j], arr[j + 1] = arr[j + 1], arr[j]\n",
    "                swaps += 1\n",
    "        print(f\"Pass {i + 1}: {arr}\")\n",
    "\n",
    "    print(\"\\nTotal Comparisons:\", comparisons)\n",
    "    print(\"Total Swaps:\", swaps)\n",
    "    return arr\n",
    "\n",
    "arr = [\"apple\", \"zebra\", \"banana\", \"mango\"]\n",
    "bubble_sort_count(arr.copy())\n"
   ]
  },
  {
   "cell_type": "code",
   "execution_count": 4,
   "id": "a55e9167",
   "metadata": {},
   "outputs": [
    {
     "name": "stdout",
     "output_type": "stream",
     "text": [
      "Case                 Comparisons     Swaps\n",
      "Already Sorted       6               0\n",
      "Reverse Sorted       6               6\n",
      "Random               6               4\n"
     ]
    }
   ],
   "source": [
    "def bubble_sort_stats(arr):\n",
    "    n = len(arr)\n",
    "    comparisons = 0\n",
    "    swaps = 0\n",
    "    for i in range(n):\n",
    "        for j in range(0, n - i - 1):\n",
    "            comparisons += 1\n",
    "            if arr[j] < arr[j + 1]:\n",
    "                arr[j], arr[j + 1] = arr[j + 1], arr[j]\n",
    "                swaps += 1\n",
    "    return comparisons, swaps\n",
    "\n",
    "sorted_arr = [\"zebra\", \"mango\", \"banana\", \"apple\"]\n",
    "\n",
    "reverse_sorted_arr = [\"apple\", \"banana\", \"mango\", \"zebra\"]\n",
    "\n",
    "random_arr = [\"banana\", \"apple\", \"zebra\", \"mango\"]\n",
    "\n",
    "cases = {\n",
    "    \"Already Sorted\": sorted_arr,\n",
    "    \"Reverse Sorted\": reverse_sorted_arr,\n",
    "    \"Random\": random_arr\n",
    "}\n",
    "\n",
    "print(\"Case\".ljust(20), \"Comparisons\".ljust(15), \"Swaps\")\n",
    "for case, data in cases.items():\n",
    "    comp, swap = bubble_sort_stats(data.copy())\n",
    "    print(case.ljust(20), str(comp).ljust(15), swap)\n"
   ]
  },
  {
   "cell_type": "code",
   "execution_count": 5,
   "id": "67e1b243",
   "metadata": {},
   "outputs": [
    {
     "name": "stdout",
     "output_type": "stream",
     "text": [
      "Initial Array: ['apple', 'zebra', 'banana', 'mango']\n",
      "Pass 1: ['zebra', 'banana', 'mango', 'apple']\n",
      "Pass 2: ['zebra', 'mango', 'banana', 'apple']\n",
      "Pass 3: ['zebra', 'mango', 'banana', 'apple']\n",
      "\n",
      "Total Comparisons: 6\n",
      "Total Swaps: 4\n"
     ]
    },
    {
     "data": {
      "text/plain": [
       "['zebra', 'mango', 'banana', 'apple']"
      ]
     },
     "execution_count": 5,
     "metadata": {},
     "output_type": "execute_result"
    }
   ],
   "source": [
    "def optimized_bubble_sort(arr):\n",
    "    n = len(arr)\n",
    "    comparisons = 0\n",
    "    swaps = 0\n",
    "\n",
    "    for i in range(n):\n",
    "        swapped = False\n",
    "        for j in range(0, n - i - 1):\n",
    "            comparisons += 1\n",
    "            if arr[j] < arr[j + 1]:\n",
    "                arr[j], arr[j + 1] = arr[j + 1], arr[j]\n",
    "                swaps += 1\n",
    "                swapped = True\n",
    "        print(f\"Pass {i + 1}: {arr}\")\n",
    "        if not swapped:\n",
    "            \n",
    "            break\n",
    "\n",
    "    print(\"\\nTotal Comparisons:\", comparisons)\n",
    "    print(\"Total Swaps:\", swaps)\n",
    "    return arr\n",
    "\n",
    "arr = [\"apple\", \"zebra\", \"banana\", \"mango\"]\n",
    "print(\"Initial Array:\", arr)\n",
    "optimized_bubble_sort(arr.copy())\n"
   ]
  },
  {
   "cell_type": "code",
   "execution_count": null,
   "id": "c073fbf4",
   "metadata": {},
   "outputs": [],
   "source": []
  }
 ],
 "metadata": {
  "kernelspec": {
   "display_name": "base",
   "language": "python",
   "name": "python3"
  },
  "language_info": {
   "codemirror_mode": {
    "name": "ipython",
    "version": 3
   },
   "file_extension": ".py",
   "mimetype": "text/x-python",
   "name": "python",
   "nbconvert_exporter": "python",
   "pygments_lexer": "ipython3",
   "version": "3.12.7"
  }
 },
 "nbformat": 4,
 "nbformat_minor": 5
}
